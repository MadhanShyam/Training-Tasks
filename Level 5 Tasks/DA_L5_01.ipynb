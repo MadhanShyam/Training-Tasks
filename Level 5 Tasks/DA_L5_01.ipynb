{
 "cells": [
  {
   "cell_type": "code",
   "execution_count": 1,
   "id": "cb1624bc-2cb4-400d-9878-cef7b6d9424d",
   "metadata": {
    "scrolled": true
   },
   "outputs": [
    {
     "name": "stdin",
     "output_type": "stream",
     "text": [
      "enter the salary amount: 2000\n",
      "enter the freelance amount: 500\n",
      "enter the tips amount: 100\n"
     ]
    },
    {
     "name": "stdout",
     "output_type": "stream",
     "text": [
      "{'salary': 2000, 'freelance': 500, 'tips': 100}\n"
     ]
    }
   ],
   "source": [
    "s=int(input(\"enter the salary amount:\"))\n",
    "f=int(input(\"enter the freelance amount:\"))\n",
    "t=int(input(\"enter the tips amount:\"))\n",
    "income={'salary':s,'freelance':f,'tips':t}\n",
    "print(income)"
   ]
  },
  {
   "cell_type": "code",
   "execution_count": 2,
   "id": "701b6939-71c1-479c-859a-9cc882bc4467",
   "metadata": {},
   "outputs": [
    {
     "name": "stdin",
     "output_type": "stream",
     "text": [
      "enter the rent amount: 1000\n",
      "enter the food amount: 1000\n",
      "enter the transport amount: 300\n"
     ]
    },
    {
     "name": "stdout",
     "output_type": "stream",
     "text": [
      "{'rent': 1000, 'food': 1000, 'transport': 300}\n"
     ]
    }
   ],
   "source": [
    "r=int(input(\"enter the rent amount:\"))\n",
    "o=int(input(\"enter the food amount:\"))\n",
    "b=int(input(\"enter the transport amount:\"))\n",
    "expence={'rent':r,'food':o,'transport':b}\n",
    "print(expence)"
   ]
  },
  {
   "cell_type": "code",
   "execution_count": 3,
   "id": "8784cdb1-bc27-4e05-b5f3-0b20a9790561",
   "metadata": {},
   "outputs": [
    {
     "name": "stdout",
     "output_type": "stream",
     "text": [
      "{'total_income': 2600}\n",
      "{'total_expence': 2300}\n",
      "{'Balance': 300}\n"
     ]
    }
   ],
   "source": [
    "total_in=sum(income.values())\n",
    "total_ex=sum(expence.values())\n",
    "total_income={'total_income':total_in}\n",
    "total_expence={'total_expence':total_ex}\n",
    "sub=total_in - total_ex\n",
    "balance={'Balance':sub}\n",
    "print(total_income)\n",
    "print(total_expence)\n",
    "print(balance)"
   ]
  },
  {
   "cell_type": "code",
   "execution_count": 4,
   "id": "f48ecad1-f885-478a-9adc-4d83893ff91a",
   "metadata": {},
   "outputs": [
    {
     "name": "stdout",
     "output_type": "stream",
     "text": [
      "{'Income': 2600, 'Expence': 2300, 'balance': 300}\n"
     ]
    }
   ],
   "source": [
    "over_all={'Income':total_in,'Expence':total_ex,'balance':sub}\n",
    "print(over_all)"
   ]
  },
  {
   "cell_type": "code",
   "execution_count": null,
   "id": "e5fece95-7907-4271-b3b1-2fb7eb9eb80a",
   "metadata": {},
   "outputs": [],
   "source": []
  }
 ],
 "metadata": {
  "kernelspec": {
   "display_name": "Python 3 (ipykernel)",
   "language": "python",
   "name": "python3"
  },
  "language_info": {
   "codemirror_mode": {
    "name": "ipython",
    "version": 3
   },
   "file_extension": ".py",
   "mimetype": "text/x-python",
   "name": "python",
   "nbconvert_exporter": "python",
   "pygments_lexer": "ipython3",
   "version": "3.12.7"
  }
 },
 "nbformat": 4,
 "nbformat_minor": 5
}
