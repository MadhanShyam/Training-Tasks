{
 "cells": [
  {
   "cell_type": "code",
   "execution_count": 1,
   "id": "cd7412a8-5591-47bf-920d-09a942165e01",
   "metadata": {},
   "outputs": [],
   "source": [
    "import pandas as pd\n",
    "import logging\n",
    "import os\n",
    "import threading\n"
   ]
  },
  {
   "cell_type": "code",
   "execution_count": 2,
   "id": "fe797080-7b25-4823-a3aa-94af0c5de2bb",
   "metadata": {},
   "outputs": [],
   "source": [
    "logging.basicConfig(\n",
    "    filename=\"app2.log\",\n",
    "    level=logging.INFO,\n",
    "    format=\"%(asctime)s - %(levelname)s - %(message)s\",\n",
    "    datefmt=\"%Y-%m-%d %H:%M:%S\"\n",
    ")\n",
    "\n",
    "logging.info(\"Logging is configured and ready.\")\n"
   ]
  },
  {
   "cell_type": "code",
   "execution_count": 3,
   "id": "6463ca15-a153-47b5-a2a2-3a45c25f7882",
   "metadata": {},
   "outputs": [],
   "source": [
    "def calculate_column_mean(file_path, column_name):\n",
    " \n",
    "    if not os.path.exists(file_path):\n",
    "        logging.error(f\"File not found: {file_path}\")\n",
    "        print(f\"Error: File '{file_path}' not found.\")\n",
    "        return None\n",
    "\n",
    "    logging.info(f\"Started processing file: {file_path}\")\n",
    "    print(f\"Processing file: {file_path}\")  \n",
    "\n",
    "    try:\n",
    "        df = pd.read_csv(file_path)\n",
    "        print(f\"CSV file '{file_path}' read successfully!\") \n",
    "\n",
    "        if column_name in df.columns and pd.api.types.is_numeric_dtype(df[column_name]):\n",
    "            mean_value = df[column_name].mean()\n",
    "            logging.info(f\"Successfully calculated mean for column '{column_name}' in {file_path}. Mean: {mean_value}\")\n",
    "            print(f\"Mean of '{column_name}' in {file_path}: {mean_value}\")\n",
    "            return mean_value\n",
    "        else:\n",
    "            logging.error(f\"Column '{column_name}' not found or is not numeric in {file_path}.\")\n",
    "            print(f\"Error: Column '{column_name}' not found or not numeric in {file_path}.\")  \n",
    "            return None\n",
    "    except Exception as e:\n",
    "        logging.error(f\"Error reading file {file_path}: {e}\")\n",
    "        print(f\"Error reading file {file_path}: {e}\")  \n",
    "        return None\n",
    "    finally:\n",
    "        logging.info(f\"Finished processing file: {file_path}\")\n",
    "        print(f\"Finished processing: {file_path}\")  \n"
   ]
  },
  {
   "cell_type": "code",
   "execution_count": 4,
   "id": "d714af54-223d-400c-9716-c9a4b492f448",
   "metadata": {
    "scrolled": true
   },
   "outputs": [],
   "source": [
    "def process_file(file_path, column_name, mean_results, index):\n",
    "    mean_value = calculate_column_mean(file_path, column_name)\n",
    "    if mean_value is not None:\n",
    "        mean_results[index] = mean_value\n",
    "        logging.info(f\"Final Mean Value for {file_path}: {mean_value}\")\n",
    "        print(f\"Final Mean Value for {file_path}: {mean_value}\")\n"
   ]
  },
  {
   "cell_type": "code",
   "execution_count": 5,
   "id": "cf83229d-d48b-47fa-ac62-436078afc426",
   "metadata": {},
   "outputs": [
    {
     "name": "stdout",
     "output_type": "stream",
     "text": [
      "Processing file: student_scores.csv\n",
      "Processing file: rounded_hours_student_scores.csv\n",
      "CSV file 'student_scores.csv' read successfully!\n",
      "Mean of 'Scores' in student_scores.csv: 51.48\n",
      "Finished processing: student_scores.csv\n",
      "Final Mean Value for student_scores.csv: 51.48\n",
      "CSV file 'rounded_hours_student_scores.csv' read successfully!\n",
      "Mean of 'Scores' in rounded_hours_student_scores.csv: 46.43333333333333\n",
      "Finished processing: rounded_hours_student_scores.csv\n",
      "Final Mean Value for rounded_hours_student_scores.csv: 46.43333333333333\n",
      "Processed means: Mean1: 51.48, Mean2: 46.43333333333333\n",
      "Both files processed concurrently!\n"
     ]
    }
   ],
   "source": [
    "file1 = \"student_scores.csv\"\n",
    "file2 = \"rounded_hours_student_scores.csv\"\n",
    "column_name = \"Scores\"\n",
    "\n",
    "mean_results = [None, None]   \n",
    "\n",
    "if not os.path.exists(file1):\n",
    "    print(f\"File '{file1}' does not exist!\")\n",
    "if not os.path.exists(file2):\n",
    "    print(f\"File '{file2}' does not exist!\")\n",
    "\n",
    "thread1 = threading.Thread(target=process_file, args=(file1, column_name, mean_results, 0))\n",
    "thread2 = threading.Thread(target=process_file, args=(file2, column_name, mean_results, 1))\n",
    "\n",
    "thread1.start()\n",
    "thread2.start()\n",
    "\n",
    "thread1.join()\n",
    "thread2.join()\n",
    "\n",
    "if mean_results[0] is not None and mean_results[1] is not None:\n",
    "    print(f\"Processed means: Mean1: {mean_results[0]}, Mean2: {mean_results[1]}\")\n",
    "else:\n",
    "    print(\"One or more means were not calculated successfully.\")\n",
    "\n",
    "print(\"Both files processed concurrently!\")"
   ]
  },
  {
   "cell_type": "code",
   "execution_count": null,
   "id": "f653adc7-c147-49e7-ad68-c26e1c27b0af",
   "metadata": {},
   "outputs": [],
   "source": []
  },
  {
   "cell_type": "code",
   "execution_count": null,
   "id": "b6c61b8e-ab03-4e77-90ed-ea33aac4219e",
   "metadata": {},
   "outputs": [],
   "source": []
  }
 ],
 "metadata": {
  "kernelspec": {
   "display_name": "Python 3 (ipykernel)",
   "language": "python",
   "name": "python3"
  },
  "language_info": {
   "codemirror_mode": {
    "name": "ipython",
    "version": 3
   },
   "file_extension": ".py",
   "mimetype": "text/x-python",
   "name": "python",
   "nbconvert_exporter": "python",
   "pygments_lexer": "ipython3",
   "version": "3.12.7"
  }
 },
 "nbformat": 4,
 "nbformat_minor": 5
}
