{
 "cells": [
  {
   "cell_type": "code",
   "execution_count": 1,
   "id": "8e2b692c-870a-4f15-9661-68a31cafd576",
   "metadata": {},
   "outputs": [],
   "source": [
    "import logging "
   ]
  },
  {
   "cell_type": "code",
   "execution_count": 2,
   "id": "ff064e57-b670-48be-b02d-e3b3134b55c4",
   "metadata": {},
   "outputs": [],
   "source": [
    "logging.basicConfig(filename=\"app.log\", level=logging.INFO, \n",
    "                    format=\"%(asctime)s - %(levelname)s - %(message)s\")"
   ]
  },
  {
   "cell_type": "code",
   "execution_count": 3,
   "id": "b0ee8185-13cf-46ca-a829-d41d64655053",
   "metadata": {},
   "outputs": [],
   "source": [
    "logging.info(\"Script has started successfully.\")"
   ]
  },
  {
   "cell_type": "code",
   "execution_count": 4,
   "id": "99f44643-4fd5-4cfe-a91f-0c514d1d4ca9",
   "metadata": {},
   "outputs": [],
   "source": [
    "task_result = \"Task completed successfully\""
   ]
  },
  {
   "cell_type": "code",
   "execution_count": 5,
   "id": "f3940979-1fa8-47f5-837b-5341b7ed17d5",
   "metadata": {},
   "outputs": [],
   "source": [
    "logging.info(task_result)"
   ]
  },
  {
   "cell_type": "code",
   "execution_count": 6,
   "id": "71d09da2-9417-4bd7-b18b-b5a223b5e725",
   "metadata": {},
   "outputs": [
    {
     "name": "stdout",
     "output_type": "stream",
     "text": [
      "Logging setup complete. Check 'app.log' for entries.\n"
     ]
    }
   ],
   "source": [
    "print(\"Logging setup complete. Check 'app.log' for entries.\")"
   ]
  }
 ],
 "metadata": {
  "kernelspec": {
   "display_name": "Python 3 (ipykernel)",
   "language": "python",
   "name": "python3"
  },
  "language_info": {
   "codemirror_mode": {
    "name": "ipython",
    "version": 3
   },
   "file_extension": ".py",
   "mimetype": "text/x-python",
   "name": "python",
   "nbconvert_exporter": "python",
   "pygments_lexer": "ipython3",
   "version": "3.12.7"
  }
 },
 "nbformat": 4,
 "nbformat_minor": 5
}
