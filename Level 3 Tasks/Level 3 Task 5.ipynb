{
 "cells": [
  {
   "cell_type": "code",
   "execution_count": 3,
   "id": "65107ec7-56fc-4b0d-b0a1-0ddb53010792",
   "metadata": {},
   "outputs": [
    {
     "name": "stdout",
     "output_type": "stream",
     "text": [
      "Original List: [[7, 2], [3, 4]]\n",
      "Shallow Copy: [[7, 2], [3, 4]]\n",
      "Deep Copy: [[8, 2], [3, 4]]\n"
     ]
    }
   ],
   "source": [
    "import copy  #  copy module\n",
    "\n",
    "#  nested list\n",
    "original_list = [[9, 2], [3, 4]]\n",
    "\n",
    "# shallow copy\n",
    "shallow_copy = copy.copy(original_list)\n",
    "\n",
    "# deep copy\n",
    "deep_copy = copy.deepcopy(original_list)\n",
    "\n",
    "#  It is used to mpdify the first element in the sublist\n",
    "shallow_copy[0][0] = 7  \n",
    "\n",
    "#  It is used to modify the first element in the sublist but just deep copy differently\n",
    "deep_copy[0][0] = 8  \n",
    "\n",
    "print(\"Original List:\", original_list)\n",
    "print(\"Shallow Copy:\", shallow_copy)\n",
    "print(\"Deep Copy:\", deep_copy)\n"
   ]
  }
 ],
 "metadata": {
  "kernelspec": {
   "display_name": "Python 3 (ipykernel)",
   "language": "python",
   "name": "python3"
  },
  "language_info": {
   "codemirror_mode": {
    "name": "ipython",
    "version": 3
   },
   "file_extension": ".py",
   "mimetype": "text/x-python",
   "name": "python",
   "nbconvert_exporter": "python",
   "pygments_lexer": "ipython3",
   "version": "3.12.7"
  }
 },
 "nbformat": 4,
 "nbformat_minor": 5
}
