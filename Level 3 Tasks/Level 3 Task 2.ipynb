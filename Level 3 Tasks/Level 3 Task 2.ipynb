{
 "cells": [
  {
   "cell_type": "code",
   "execution_count": 1,
   "id": "270f3969-c5c2-4918-b46b-62c95f493131",
   "metadata": {},
   "outputs": [
    {
     "name": "stdout",
     "output_type": "stream",
     "text": [
      "Woof\n"
     ]
    }
   ],
   "source": [
    "class Animal:#base class name animal\n",
    "    def make_sound(self):\n",
    "        return \"Some sound\"  # Generic sound\n",
    "\n",
    "class Dog(Animal):  #this is an subclass where dog inherits from animal.(override method used) \n",
    "    def make_sound(self):  \n",
    "        return \"Woof\"  # Specific sound for Dog\n",
    "\n",
    "dog_instance = Dog()  # Creating object and creating an instance of object to call the metod given \n",
    "result = dog_instance.make_sound()  # Calling overridden method\n",
    "\n",
    "print(result)\n"
   ]
  },
  {
   "cell_type": "code",
   "execution_count": null,
   "id": "31973cb9-d795-4e8e-a497-16dfcfdad3e4",
   "metadata": {},
   "outputs": [],
   "source": []
  }
 ],
 "metadata": {
  "kernelspec": {
   "display_name": "Python 3 (ipykernel)",
   "language": "python",
   "name": "python3"
  },
  "language_info": {
   "codemirror_mode": {
    "name": "ipython",
    "version": 3
   },
   "file_extension": ".py",
   "mimetype": "text/x-python",
   "name": "python",
   "nbconvert_exporter": "python",
   "pygments_lexer": "ipython3",
   "version": "3.12.7"
  }
 },
 "nbformat": 4,
 "nbformat_minor": 5
}
