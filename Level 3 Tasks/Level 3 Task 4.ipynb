{
 "cells": [
  {
   "cell_type": "code",
   "execution_count": 3,
   "id": "b9dd0cf7-3e84-4275-b465-ad363ee39b9c",
   "metadata": {},
   "outputs": [
    {
     "name": "stdout",
     "output_type": "stream",
     "text": [
      "[0, 1, 1, 2, 3]\n"
     ]
    }
   ],
   "source": [
    "def fib(n):\n",
    "    a, b = 0, 1  #  Initialize first two Fibonacci numbers\n",
    "    for _ in range(n): \n",
    "        yield a  # understand the current value\n",
    "        a, b = b, a + b  \n",
    "\n",
    "# fib 5-- first 5 Fibonacci numbers\n",
    "fib_sequence = list(fib(5))  \n",
    "\n",
    "print(fib_sequence)\n"
   ]
  },
  {
   "cell_type": "code",
   "execution_count": 4,
   "id": "b7454c15-2e7f-4b6c-a156-3884466206ee",
   "metadata": {},
   "outputs": [
    {
     "name": "stdout",
     "output_type": "stream",
     "text": [
      "[0, 1, 1, 2, 3, 5, 8, 13, 21, 34]\n"
     ]
    }
   ],
   "source": [
    "def fib(n):\n",
    "    a, b = 0, 1  #  Initialize first two Fibonacci numbers\n",
    "    for _ in range(n): \n",
    "        yield a  # understand the current value\n",
    "        a, b = b, a + b  \n",
    "\n",
    "# fib 5-- first 5 Fibonacci numbers\n",
    "fib_sequence = list(fib(10))  \n",
    "\n",
    "print(fib_sequence)"
   ]
  },
  {
   "cell_type": "code",
   "execution_count": null,
   "id": "d2d330ef-b171-417c-842b-9463f722dac2",
   "metadata": {},
   "outputs": [],
   "source": []
  }
 ],
 "metadata": {
  "kernelspec": {
   "display_name": "Python 3 (ipykernel)",
   "language": "python",
   "name": "python3"
  },
  "language_info": {
   "codemirror_mode": {
    "name": "ipython",
    "version": 3
   },
   "file_extension": ".py",
   "mimetype": "text/x-python",
   "name": "python",
   "nbconvert_exporter": "python",
   "pygments_lexer": "ipython3",
   "version": "3.12.7"
  }
 },
 "nbformat": 4,
 "nbformat_minor": 5
}
