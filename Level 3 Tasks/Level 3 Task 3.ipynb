{
 "cells": [
  {
   "cell_type": "code",
   "execution_count": 4,
   "id": "8932c112-2f62-4699-ba23-7758b8b8f4a3",
   "metadata": {},
   "outputs": [
    {
     "name": "stdout",
     "output_type": "stream",
     "text": [
      "Function execution completed.\n",
      "Function 'test_function' executed in 1.000873 seconds\n"
     ]
    }
   ],
   "source": [
    "import time  \n",
    "\n",
    "def timer_decorator(func):\n",
    "    def wrapper():\n",
    "        start_time = time.time()  # Record start time\n",
    "        func()  #  Call the wrapped function\n",
    "        end_time = time.time()  # Record end time\n",
    "        print(f\"Function '{func.__name__}' executed in {end_time - start_time:.6f} seconds\")  \n",
    "    return wrapper  \n",
    "\n",
    "# sample function\n",
    "@timer_decorator\n",
    "def test_function():\n",
    "    time.sleep(1)  # processing an 1 second delay\n",
    "    print(\"Function execution completed.\")\n",
    "\n",
    "test_function()\n"
   ]
  },
  {
   "cell_type": "code",
   "execution_count": null,
   "id": "dcece303-e57e-4de9-8a26-c5406edb3088",
   "metadata": {},
   "outputs": [],
   "source": []
  }
 ],
 "metadata": {
  "kernelspec": {
   "display_name": "Python 3 (ipykernel)",
   "language": "python",
   "name": "python3"
  },
  "language_info": {
   "codemirror_mode": {
    "name": "ipython",
    "version": 3
   },
   "file_extension": ".py",
   "mimetype": "text/x-python",
   "name": "python",
   "nbconvert_exporter": "python",
   "pygments_lexer": "ipython3",
   "version": "3.12.7"
  }
 },
 "nbformat": 4,
 "nbformat_minor": 5
}
