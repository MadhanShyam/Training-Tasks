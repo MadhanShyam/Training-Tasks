{
 "cells": [
  {
   "cell_type": "code",
   "execution_count": 5,
   "id": "73c92c9d-2369-449d-9fee-a4feb2b3ce9f",
   "metadata": {},
   "outputs": [],
   "source": [
    "import numpy as np\n",
    "import statsmodels.stats.weightstats as st\n"
   ]
  },
  {
   "cell_type": "code",
   "execution_count": 6,
   "id": "8840c8ef-24a0-4aeb-b8a7-4fd28916d49e",
   "metadata": {},
   "outputs": [],
   "source": [
    "population_mean = 100\n",
    "population_std = 15\n",
    "sample_size = 30\n",
    "\n",
    "np.random.seed(42) \n",
    "sample_data = np.random.normal(140, population_std, sample_size)\n"
   ]
  },
  {
   "cell_type": "code",
   "execution_count": 7,
   "id": "e4a24a4d-67f7-48ba-a831-27667c2f5434",
   "metadata": {},
   "outputs": [
    {
     "name": "stdout",
     "output_type": "stream",
     "text": [
      "Z-score: 15.08\n",
      "P-value: 0.00000\n"
     ]
    }
   ],
   "source": [
    "# one-sample Z-test:\n",
    "z_score, p_value = st.ztest(sample_data, value=population_mean)\n",
    "\n",
    "print(f\"Z-score: {z_score:.2f}\")\n",
    "print(f\"P-value: {p_value:.5f}\")\n"
   ]
  },
  {
   "cell_type": "code",
   "execution_count": 8,
   "id": "a5db9cc9-a0a2-4a36-a382-8e28d4ed4594",
   "metadata": {},
   "outputs": [
    {
     "name": "stdout",
     "output_type": "stream",
     "text": [
      "Reject H₀: Medication affects IQ, likely increasing it.\n"
     ]
    }
   ],
   "source": [
    "alpha = 0.05\n",
    "\n",
    "if p_value < alpha:\n",
    "    print(\"Reject H₀: Medication affects IQ, likely increasing it.\")\n",
    "else:\n",
    "    print(\"Fail to reject H₀: No significant effect of medication on IQ.\")\n"
   ]
  },
  {
   "cell_type": "code",
   "execution_count": null,
   "id": "e1018945-2273-4ee5-adf7-9a2d61222574",
   "metadata": {},
   "outputs": [],
   "source": []
  }
 ],
 "metadata": {
  "kernelspec": {
   "display_name": "Python 3 (ipykernel)",
   "language": "python",
   "name": "python3"
  },
  "language_info": {
   "codemirror_mode": {
    "name": "ipython",
    "version": 3
   },
   "file_extension": ".py",
   "mimetype": "text/x-python",
   "name": "python",
   "nbconvert_exporter": "python",
   "pygments_lexer": "ipython3",
   "version": "3.12.7"
  }
 },
 "nbformat": 4,
 "nbformat_minor": 5
}
