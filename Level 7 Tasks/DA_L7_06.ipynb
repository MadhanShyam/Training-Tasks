{
 "cells": [
  {
   "cell_type": "code",
   "execution_count": 1,
   "id": "680e643b-bbd8-4541-a060-98c7732916db",
   "metadata": {},
   "outputs": [],
   "source": [
    "import numpy as np\n",
    "import scipy.stats as stats\n"
   ]
  },
  {
   "cell_type": "code",
   "execution_count": 2,
   "id": "f7ad52f2-1e9a-4d7c-9f51-deb97b813a79",
   "metadata": {},
   "outputs": [],
   "source": [
    "height = np.array([160, 170, 180, 175])\n",
    "weight = np.array([60, 70, 75, 65])\n"
   ]
  },
  {
   "cell_type": "code",
   "execution_count": 3,
   "id": "1e36db75-57ee-4ed0-9848-7d443605dc9d",
   "metadata": {},
   "outputs": [
    {
     "name": "stdout",
     "output_type": "stream",
     "text": [
      "Pearson Correlation: 0.83, P-value: 0.1685\n"
     ]
    }
   ],
   "source": [
    "pearson_corr, pearson_p = stats.pearsonr(height, weight)\n",
    "print(f\"Pearson Correlation: {pearson_corr:.2f}, P-value: {pearson_p:.4f}\")\n"
   ]
  },
  {
   "cell_type": "code",
   "execution_count": 4,
   "id": "f6b0934b-68b3-4192-88a5-20f50bb611f9",
   "metadata": {},
   "outputs": [
    {
     "name": "stdout",
     "output_type": "stream",
     "text": [
      "Spearman Correlation: 0.80, P-value: 0.2000\n"
     ]
    }
   ],
   "source": [
    "spearman_corr, spearman_p = stats.spearmanr(height, weight)\n",
    "print(f\"Spearman Correlation: {spearman_corr:.2f}, P-value: {spearman_p:.4f}\")\n"
   ]
  },
  {
   "cell_type": "code",
   "execution_count": 6,
   "id": "8aba0525-3621-45fd-ad16-dd34bde97cb2",
   "metadata": {},
   "outputs": [
    {
     "name": "stdout",
     "output_type": "stream",
     "text": [
      "Pearson correlation is higher, indicating a stronger linear relationship.\n"
     ]
    }
   ],
   "source": [
    "if pearson_corr > spearman_corr:\n",
    "    print(\"Pearson correlation is higher, indicating a stronger linear relationship.\")\n",
    "elif spearman_corr > pearson_corr:\n",
    "    print(\"Spearman correlation is higher, suggesting a stronger monotonic relationship.\")\n",
    "else:\n",
    "    print(\"Both correlations are similar, meaning the relationship is nearly linear.\")\n"
   ]
  },
  {
   "cell_type": "code",
   "execution_count": null,
   "id": "4a784418-5536-424d-a33e-8f5587341a10",
   "metadata": {},
   "outputs": [],
   "source": []
  }
 ],
 "metadata": {
  "kernelspec": {
   "display_name": "Python 3 (ipykernel)",
   "language": "python",
   "name": "python3"
  },
  "language_info": {
   "codemirror_mode": {
    "name": "ipython",
    "version": 3
   },
   "file_extension": ".py",
   "mimetype": "text/x-python",
   "name": "python",
   "nbconvert_exporter": "python",
   "pygments_lexer": "ipython3",
   "version": "3.12.7"
  }
 },
 "nbformat": 4,
 "nbformat_minor": 5
}
