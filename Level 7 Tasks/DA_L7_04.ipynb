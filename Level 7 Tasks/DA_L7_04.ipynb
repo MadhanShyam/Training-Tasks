{
 "cells": [
  {
   "cell_type": "code",
   "execution_count": 1,
   "id": "191b38bb-bbc2-4acc-8480-a43ee2b3650c",
   "metadata": {},
   "outputs": [],
   "source": [
    "import numpy as np\n",
    "from scipy import stats\n"
   ]
  },
  {
   "cell_type": "code",
   "execution_count": 2,
   "id": "af671a50-8fd6-430f-95d1-0aa074bf2172",
   "metadata": {},
   "outputs": [],
   "source": [
    "observed = np.array([121, 288, 91])\n",
    "expected = np.array([100, 150, 250])\n"
   ]
  },
  {
   "cell_type": "code",
   "execution_count": 4,
   "id": "9ba7b7aa-f646-4807-9018-7184104d9f1c",
   "metadata": {},
   "outputs": [],
   "source": [
    "chi_stat, p_value = stats.chisquare(observed, expected)\n"
   ]
  },
  {
   "cell_type": "code",
   "execution_count": 5,
   "id": "9055e8ac-75fc-4175-a7a0-322c254f6016",
   "metadata": {},
   "outputs": [
    {
     "name": "stdout",
     "output_type": "stream",
     "text": [
      "Chi-Square Statistic: 232.49\n",
      "P-value: 0.00000\n"
     ]
    }
   ],
   "source": [
    "print(f\"Chi-Square Statistic: {chi_stat:.2f}\")\n",
    "print(f\"P-value: {p_value:.5f}\")\n"
   ]
  },
  {
   "cell_type": "code",
   "execution_count": 6,
   "id": "d383b7b0-6025-47cf-a762-ac87c224db78",
   "metadata": {},
   "outputs": [
    {
     "name": "stdout",
     "output_type": "stream",
     "text": [
      "Reject H₀: Age distribution has changed.\n"
     ]
    }
   ],
   "source": [
    "alpha = 0.05\n",
    "if p_value < alpha:\n",
    "    print(\"Reject H₀: Age distribution has changed.\")\n",
    "else:\n",
    "    print(\"Fail to reject H₀: No significant change in age distribution.\")\n"
   ]
  },
  {
   "cell_type": "code",
   "execution_count": null,
   "id": "abe120e3-a7d6-43ad-89c7-f2b3afcefb10",
   "metadata": {},
   "outputs": [],
   "source": []
  }
 ],
 "metadata": {
  "kernelspec": {
   "display_name": "Python 3 (ipykernel)",
   "language": "python",
   "name": "python3"
  },
  "language_info": {
   "codemirror_mode": {
    "name": "ipython",
    "version": 3
   },
   "file_extension": ".py",
   "mimetype": "text/x-python",
   "name": "python",
   "nbconvert_exporter": "python",
   "pygments_lexer": "ipython3",
   "version": "3.12.7"
  }
 },
 "nbformat": 4,
 "nbformat_minor": 5
}
