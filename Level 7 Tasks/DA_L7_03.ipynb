{
 "cells": [
  {
   "cell_type": "code",
   "execution_count": 1,
   "id": "82f4d01c-876a-42cb-b726-8b4973369c0e",
   "metadata": {},
   "outputs": [],
   "source": [
    "import numpy as np\n",
    "from scipy import stats\n"
   ]
  },
  {
   "cell_type": "code",
   "execution_count": 3,
   "id": "17d47c19-921d-46cb-a3c7-7dc6d338ac63",
   "metadata": {},
   "outputs": [],
   "source": [
    "np.random.seed(42)\n",
    "\n",
    "# mean=140, std=20, n=30\n",
    "sample_data = np.random.normal(140, 20, 30)\n"
   ]
  },
  {
   "cell_type": "code",
   "execution_count": 5,
   "id": "1b6398fd-55b7-45a3-9507-be971af31398",
   "metadata": {},
   "outputs": [],
   "source": [
    "t_stat, p_value = stats.ttest_1samp(sample_data, popmean=100)\n"
   ]
  },
  {
   "cell_type": "code",
   "execution_count": 6,
   "id": "1604c71d-d867-4fd4-a4fc-17b2c96b8b52",
   "metadata": {},
   "outputs": [
    {
     "name": "stdout",
     "output_type": "stream",
     "text": [
      "T-score: 11.03\n",
      "P-value: 0.00000\n"
     ]
    }
   ],
   "source": [
    "print(f\"T-score: {t_stat:.2f}\")\n",
    "print(f\"P-value: {p_value:.5f}\")\n"
   ]
  },
  {
   "cell_type": "code",
   "execution_count": 7,
   "id": "b51ddd58-04fe-409f-bcd9-a6cd242529d4",
   "metadata": {},
   "outputs": [
    {
     "name": "stdout",
     "output_type": "stream",
     "text": [
      "Reject H₀: Medication increases IQ (mean > 100).\n"
     ]
    }
   ],
   "source": [
    "alpha = 0.05\n",
    "if p_value < alpha:\n",
    "    print(\"Reject H₀: Medication increases IQ (mean > 100).\")\n",
    "else:\n",
    "    print(\"Fail to reject H₀: No significant effect of medication on IQ.\")\n"
   ]
  },
  {
   "cell_type": "code",
   "execution_count": null,
   "id": "b5a2dc5d-6710-4de9-9926-51bad6a6d469",
   "metadata": {},
   "outputs": [],
   "source": []
  }
 ],
 "metadata": {
  "kernelspec": {
   "display_name": "Python 3 (ipykernel)",
   "language": "python",
   "name": "python3"
  },
  "language_info": {
   "codemirror_mode": {
    "name": "ipython",
    "version": 3
   },
   "file_extension": ".py",
   "mimetype": "text/x-python",
   "name": "python",
   "nbconvert_exporter": "python",
   "pygments_lexer": "ipython3",
   "version": "3.12.7"
  }
 },
 "nbformat": 4,
 "nbformat_minor": 5
}
