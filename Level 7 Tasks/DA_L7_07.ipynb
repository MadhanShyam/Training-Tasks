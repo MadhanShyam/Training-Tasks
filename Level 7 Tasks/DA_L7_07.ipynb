{
 "cells": [
  {
   "cell_type": "code",
   "execution_count": 7,
   "id": "165efce6-1755-40d6-b4fc-7ddbf65e5d49",
   "metadata": {},
   "outputs": [],
   "source": [
    "import numpy as np\n"
   ]
  },
  {
   "cell_type": "code",
   "execution_count": 8,
   "id": "4cfb6bc5-7c42-49ac-a8bf-e004f656b1b8",
   "metadata": {},
   "outputs": [],
   "source": [
    "p_success = 0.3  # Probability of success\n",
    "num_trials = 1000 \n",
    "\n",
    "trials = np.random.binomial(n=1, p=p_success, size=num_trials) #(1 for success, 0 for failure)\n"
   ]
  },
  {
   "cell_type": "code",
   "execution_count": 9,
   "id": "79e01881-e0e2-4e28-a853-79742d43a451",
   "metadata": {},
   "outputs": [
    {
     "name": "stdout",
     "output_type": "stream",
     "text": [
      "Simulated Probability: 0.323\n"
     ]
    }
   ],
   "source": [
    "simulated_p = np.mean(trials)  # Mean gives proportion of successes\n",
    "print(f\"Simulated Probability: {simulated_p:.3f}\")\n"
   ]
  },
  {
   "cell_type": "code",
   "execution_count": 10,
   "id": "fad06570-0e9e-4682-8079-a62406ed7fbc",
   "metadata": {},
   "outputs": [
    {
     "name": "stdout",
     "output_type": "stream",
     "text": [
      "Theoretical Probability: 0.300\n",
      "Simulated probability is close to the theoretical value, confirming Bernoulli trial behavior.\n"
     ]
    }
   ],
   "source": [
    "print(f\"Theoretical Probability: {p_success:.3f}\")\n",
    "\n",
    "\n",
    "if abs(simulated_p - p_success) < 0.05:\n",
    "    print(\"Simulated probability is close to the theoretical value, confirming Bernoulli trial behavior.\")\n",
    "else:\n",
    "    print(\"Simulated probability deviates significantly from the theoretical value.\")\n"
   ]
  },
  {
   "cell_type": "code",
   "execution_count": null,
   "id": "ffdd031a-74b2-4336-8311-72c163b2fe93",
   "metadata": {},
   "outputs": [],
   "source": []
  }
 ],
 "metadata": {
  "kernelspec": {
   "display_name": "Python 3 (ipykernel)",
   "language": "python",
   "name": "python3"
  },
  "language_info": {
   "codemirror_mode": {
    "name": "ipython",
    "version": 3
   },
   "file_extension": ".py",
   "mimetype": "text/x-python",
   "name": "python",
   "nbconvert_exporter": "python",
   "pygments_lexer": "ipython3",
   "version": "3.12.7"
  }
 },
 "nbformat": 4,
 "nbformat_minor": 5
}
