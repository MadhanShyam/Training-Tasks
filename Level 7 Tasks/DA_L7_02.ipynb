{
 "cells": [
  {
   "cell_type": "code",
   "execution_count": 11,
   "id": "34e651d2-bfb1-4f61-9037-aa08c96346ac",
   "metadata": {},
   "outputs": [],
   "source": [
    "import numpy as np\n",
    "import statsmodels.stats.weightstats as st\n"
   ]
  },
  {
   "cell_type": "code",
   "execution_count": 12,
   "id": "35cc9f38-0a43-4fff-899e-97ea45cd36e9",
   "metadata": {},
   "outputs": [],
   "source": [
    "mean_traditional = 75\n",
    "std_traditional = 10\n",
    "n_traditional = 40\n",
    "\n",
    "mean_new = 82\n",
    "std_new = 12\n",
    "n_new = 35\n",
    "\n",
    "alpha = 0.05\n"
   ]
  },
  {
   "cell_type": "code",
   "execution_count": 13,
   "id": "15207df9-4fb0-47cf-b0bc-df1953144d8a",
   "metadata": {},
   "outputs": [],
   "source": [
    "np.random.seed(42)\n",
    "\n",
    "#  sample test scores\n",
    "traditional_scores = np.random.normal(mean_traditional, std_traditional, n_traditional)\n",
    "new_method_scores = np.random.normal(mean_new, std_new, n_new)\n"
   ]
  },
  {
   "cell_type": "code",
   "execution_count": 14,
   "id": "219727a3-e9cb-4c4e-a8ed-b3fc7cd8b432",
   "metadata": {},
   "outputs": [],
   "source": [
    "#  two-sample Z-test \n",
    "z_score, p_value = st.ztest(new_method_scores, traditional_scores, alternative='larger')\n"
   ]
  },
  {
   "cell_type": "code",
   "execution_count": 15,
   "id": "173fbd00-6811-47bf-ac6c-4004b40cb08c",
   "metadata": {},
   "outputs": [
    {
     "name": "stdout",
     "output_type": "stream",
     "text": [
      "Z-score: 3.79\n",
      "P-value: 0.00008\n"
     ]
    }
   ],
   "source": [
    "print(f\"Z-score: {z_score:.2f}\")\n",
    "print(f\"P-value: {p_value:.5f}\")\n"
   ]
  },
  {
   "cell_type": "code",
   "execution_count": 16,
   "id": "9d15c294-2ec3-4f2a-9928-03401ca419a7",
   "metadata": {},
   "outputs": [
    {
     "name": "stdout",
     "output_type": "stream",
     "text": [
      "Reject H₀: The new teaching method significantly increases test scores.\n"
     ]
    }
   ],
   "source": [
    "if p_value < alpha:\n",
    "    print(\"Reject H₀: The new teaching method significantly increases test scores.\")\n",
    "else:\n",
    "    print(\"Fail to reject H₀: No strong evidence that the new method improves scores.\")\n"
   ]
  },
  {
   "cell_type": "code",
   "execution_count": null,
   "id": "78b1936a-c857-45fc-808f-49570f152cb0",
   "metadata": {},
   "outputs": [],
   "source": []
  }
 ],
 "metadata": {
  "kernelspec": {
   "display_name": "Python 3 (ipykernel)",
   "language": "python",
   "name": "python3"
  },
  "language_info": {
   "codemirror_mode": {
    "name": "ipython",
    "version": 3
   },
   "file_extension": ".py",
   "mimetype": "text/x-python",
   "name": "python",
   "nbconvert_exporter": "python",
   "pygments_lexer": "ipython3",
   "version": "3.12.7"
  }
 },
 "nbformat": 4,
 "nbformat_minor": 5
}
