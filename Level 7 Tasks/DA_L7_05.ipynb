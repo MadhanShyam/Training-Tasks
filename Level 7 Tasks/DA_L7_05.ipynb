{
 "cells": [
  {
   "cell_type": "code",
   "execution_count": 1,
   "id": "90af2021-6fe1-42f8-8926-238c55d0d304",
   "metadata": {},
   "outputs": [],
   "source": [
    "import numpy as np\n"
   ]
  },
  {
   "cell_type": "code",
   "execution_count": 2,
   "id": "c6dc3cd8-af35-496e-9418-082b4f0fb650",
   "metadata": {},
   "outputs": [],
   "source": [
    "#  height and weight data\n",
    "height = np.array([160, 170, 180, 175])\n",
    "weight = np.array([60, 70, 75, 65])\n"
   ]
  },
  {
   "cell_type": "code",
   "execution_count": 3,
   "id": "61b05953-0fde-4b55-b8d8-c0bd25cf1793",
   "metadata": {},
   "outputs": [],
   "source": [
    "cov_matrix = np.cov(height, weight, ddof=1)\n",
    "\n",
    "# Extracting cov_value by using the cov_matrix;\n",
    "cov_value = cov_matrix[0, 1]\n"
   ]
  },
  {
   "cell_type": "code",
   "execution_count": 4,
   "id": "4f9f5725-ace2-4577-8e91-13812f1b9501",
   "metadata": {},
   "outputs": [
    {
     "name": "stdout",
     "output_type": "stream",
     "text": [
      "Covariance: 45.83\n"
     ]
    }
   ],
   "source": [
    "print(f\"Covariance: {cov_value:.2f}\")\n"
   ]
  },
  {
   "cell_type": "code",
   "execution_count": 5,
   "id": "2eace4b9-9baa-4f36-a5b6-7b119618094e",
   "metadata": {},
   "outputs": [
    {
     "name": "stdout",
     "output_type": "stream",
     "text": [
      "Positive covariance: As height increases, weight tends to increase.\n"
     ]
    }
   ],
   "source": [
    "if cov_value > 0:\n",
    "    print(\"Positive covariance: As height increases, weight tends to increase.\")\n",
    "elif cov_value < 0:\n",
    "    print(\"Negative covariance: As height increases, weight tends to decrease.\")\n",
    "else:\n",
    "    print(\"No covariance: Height and weight are not related.\")\n"
   ]
  },
  {
   "cell_type": "code",
   "execution_count": null,
   "id": "5d5e9901-cee6-4f19-9eb1-78322bdfa334",
   "metadata": {},
   "outputs": [],
   "source": []
  }
 ],
 "metadata": {
  "kernelspec": {
   "display_name": "Python 3 (ipykernel)",
   "language": "python",
   "name": "python3"
  },
  "language_info": {
   "codemirror_mode": {
    "name": "ipython",
    "version": 3
   },
   "file_extension": ".py",
   "mimetype": "text/x-python",
   "name": "python",
   "nbconvert_exporter": "python",
   "pygments_lexer": "ipython3",
   "version": "3.12.7"
  }
 },
 "nbformat": 4,
 "nbformat_minor": 5
}
