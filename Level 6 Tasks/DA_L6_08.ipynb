{
 "cells": [
  {
   "cell_type": "code",
   "execution_count": 1,
   "id": "f60d6385-73b7-4ec5-8532-95a1c0a437bb",
   "metadata": {},
   "outputs": [
    {
     "name": "stdout",
     "output_type": "stream",
     "text": [
      "Requirement already satisfied: scipy in c:\\users\\girish\\anaconda3\\lib\\site-packages (1.13.1)\n",
      "Requirement already satisfied: numpy<2.3,>=1.22.4 in c:\\users\\girish\\anaconda3\\lib\\site-packages (from scipy) (1.26.4)\n"
     ]
    }
   ],
   "source": [
    "!pip install scipy"
   ]
  },
  {
   "cell_type": "code",
   "execution_count": 2,
   "id": "5247041c-e93f-4dca-babd-44474beb967c",
   "metadata": {},
   "outputs": [],
   "source": [
    "import scipy.stats as stats\n",
    "import numpy as np\n",
    "import pandas as pd\n",
    "\n",
    "Mean = 100\n",
    "standard_dev = 15\n",
    "\n",
    "Range1 = Mean - standard_dev \n",
    "Range2 = Mean + standard_dev \n",
    "\n",
    "probability = stats.norm.cdf(Range2,Mean,standard_dev) - stats.norm.cdf(Range1,Mean,standard_dev)\n",
    "percentage = probability * 100\n",
    "\n"
   ]
  },
  {
   "cell_type": "code",
   "execution_count": 3,
   "id": "1761df6b-9943-4989-8852-18ffa8cb43ab",
   "metadata": {},
   "outputs": [
    {
     "name": "stdout",
     "output_type": "stream",
     "text": [
      "Mean (μ) = 100, Standard Deviation (σ) = 15\n",
      "Interval = (85, 115) → μ ± 1σ\n",
      "Probability ≈ 68.27%\n"
     ]
    }
   ],
   "source": [
    "print(f\"Mean (μ) = {Mean}, Standard Deviation (σ) = {standard_dev }\")\n",
    "print(f\"Interval = ({Range1}, {Range2}) → μ ± 1σ\")\n",
    "print(f\"Probability ≈ {percentage:.2f}%\")"
   ]
  },
  {
   "cell_type": "code",
   "execution_count": 4,
   "id": "71c739a2-bb82-4c66-9c46-ec9217b0475f",
   "metadata": {},
   "outputs": [
    {
     "name": "stdout",
     "output_type": "stream",
     "text": [
      "Approximately 68% of the data lies between 85 and 115.\n"
     ]
    }
   ],
   "source": [
    "print(\"Approximately 68% of the data lies between 85 and 115.\")"
   ]
  }
 ],
 "metadata": {
  "kernelspec": {
   "display_name": "Python 3 (ipykernel)",
   "language": "python",
   "name": "python3"
  },
  "language_info": {
   "codemirror_mode": {
    "name": "ipython",
    "version": 3
   },
   "file_extension": ".py",
   "mimetype": "text/x-python",
   "name": "python",
   "nbconvert_exporter": "python",
   "pygments_lexer": "ipython3",
   "version": "3.12.7"
  }
 },
 "nbformat": 4,
 "nbformat_minor": 5
}
