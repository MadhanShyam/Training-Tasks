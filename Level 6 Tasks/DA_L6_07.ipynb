{
 "cells": [
  {
   "cell_type": "code",
   "execution_count": 1,
   "id": "d75b80c4-d35d-42fe-b634-5eb62c080961",
   "metadata": {},
   "outputs": [
    {
     "data": {
      "text/plain": [
       "array([2, 3, 4, 5, 6, 7])"
      ]
     },
     "execution_count": 1,
     "metadata": {},
     "output_type": "execute_result"
    }
   ],
   "source": [
    "import numpy as np \n",
    "\n",
    "data=np.array([2,3,4,5,6,7])\n",
    "data"
   ]
  },
  {
   "cell_type": "code",
   "execution_count": 2,
   "id": "840935d5-0ae2-46e9-9a82-1eeb8c342e12",
   "metadata": {},
   "outputs": [],
   "source": [
    "mean = np.mean(data)"
   ]
  },
  {
   "cell_type": "code",
   "execution_count": 3,
   "id": "cdb08e5e-3945-40bd-a3fb-f3a98dc12ae9",
   "metadata": {},
   "outputs": [],
   "source": [
    "standard_dev = np.std(data)"
   ]
  },
  {
   "cell_type": "code",
   "execution_count": 4,
   "id": "d04ace8e-c712-4210-9177-61c68d5de45c",
   "metadata": {},
   "outputs": [],
   "source": [
    "z_score=[(x-mean)/standard_dev for x in data]"
   ]
  },
  {
   "cell_type": "code",
   "execution_count": 5,
   "id": "b14ac577-8c38-447f-8ece-c9391f9d96ad",
   "metadata": {},
   "outputs": [],
   "source": [
    "z1_score=[(5-mean)/standard_dev for x in data]"
   ]
  },
  {
   "cell_type": "code",
   "execution_count": 6,
   "id": "18670991-1713-4909-8157-24348ce09367",
   "metadata": {},
   "outputs": [
    {
     "name": "stdout",
     "output_type": "stream",
     "text": [
      "mean of the given number :4.5\n"
     ]
    }
   ],
   "source": [
    "print(f\"mean of the given number :{mean}\")"
   ]
  },
  {
   "cell_type": "code",
   "execution_count": 7,
   "id": "e5b91f75-1a29-4510-9e81-78056051000c",
   "metadata": {},
   "outputs": [
    {
     "name": "stdout",
     "output_type": "stream",
     "text": [
      "standard_dev of the given number :1.707825127659933\n"
     ]
    }
   ],
   "source": [
    "print(f\"standard_dev of the given number :{standard_dev}\")"
   ]
  },
  {
   "cell_type": "code",
   "execution_count": 8,
   "id": "d396c55e-7c5a-434d-ab44-2747fa6b180b",
   "metadata": {},
   "outputs": [
    {
     "name": "stdout",
     "output_type": "stream",
     "text": [
      "z_score of the given number :[-1.4638501094227998, -0.8783100656536799, -0.29277002188455997, 0.29277002188455997, 0.8783100656536799, 1.4638501094227998]\n"
     ]
    }
   ],
   "source": [
    "print(f\"z_score of the given number :{z_score}\")"
   ]
  },
  {
   "cell_type": "code",
   "execution_count": 9,
   "id": "9756763c-e0c3-4e7a-ba3a-0eef77448dfb",
   "metadata": {},
   "outputs": [
    {
     "name": "stdout",
     "output_type": "stream",
     "text": [
      "z1_score of the given number :[0.29277002188455997, 0.29277002188455997, 0.29277002188455997, 0.29277002188455997, 0.29277002188455997, 0.29277002188455997]\n"
     ]
    }
   ],
   "source": [
    "print(f\"z1_score of the given number :{z1_score}\")"
   ]
  }
 ],
 "metadata": {
  "kernelspec": {
   "display_name": "Python 3 (ipykernel)",
   "language": "python",
   "name": "python3"
  },
  "language_info": {
   "codemirror_mode": {
    "name": "ipython",
    "version": 3
   },
   "file_extension": ".py",
   "mimetype": "text/x-python",
   "name": "python",
   "nbconvert_exporter": "python",
   "pygments_lexer": "ipython3",
   "version": "3.12.7"
  }
 },
 "nbformat": 4,
 "nbformat_minor": 5
}
