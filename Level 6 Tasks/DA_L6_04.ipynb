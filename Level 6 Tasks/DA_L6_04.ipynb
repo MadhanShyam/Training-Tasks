{
 "cells": [
  {
   "cell_type": "code",
   "execution_count": 1,
   "id": "2e3fd19d-30c2-40ba-ba13-bcba3f005fba",
   "metadata": {},
   "outputs": [],
   "source": [
    "import numpy as np\n",
    "from scipy import stats\n"
   ]
  },
  {
   "cell_type": "code",
   "execution_count": 3,
   "id": "9b716e3c-8974-4f46-9c68-916060cdaf47",
   "metadata": {},
   "outputs": [],
   "source": [
    "# dataset\n",
    "data = [3, 5, 5, 6, 7, 100]\n"
   ]
  },
  {
   "cell_type": "code",
   "execution_count": 4,
   "id": "59bd32f1-57e8-43df-b8e6-66589877165b",
   "metadata": {},
   "outputs": [
    {
     "name": "stdout",
     "output_type": "stream",
     "text": [
      "Mean: 21.0\n"
     ]
    }
   ],
   "source": [
    "# Calculate mean\n",
    "mean_value = np.mean(data)\n",
    "print(f\"Mean: {mean_value}\")\n"
   ]
  },
  {
   "cell_type": "code",
   "execution_count": 5,
   "id": "72bbe3a6-6c5e-4bd9-9bbc-817ca431d155",
   "metadata": {},
   "outputs": [
    {
     "name": "stdout",
     "output_type": "stream",
     "text": [
      "Median: 5.5\n"
     ]
    }
   ],
   "source": [
    "# Calculate median\n",
    "median_value = np.median(data)\n",
    "print(f\"Median: {median_value}\")\n"
   ]
  },
  {
   "cell_type": "code",
   "execution_count": 6,
   "id": "ac1e1c3d-9c7b-4477-9f79-55d0cdb20378",
   "metadata": {},
   "outputs": [
    {
     "name": "stdout",
     "output_type": "stream",
     "text": [
      "Mode: 5\n"
     ]
    }
   ],
   "source": [
    "# Calculate mode\n",
    "mode_value = stats.mode(data, keepdims=True).mode[0]\n",
    "print(f\"Mode: {mode_value}\")\n"
   ]
  },
  {
   "cell_type": "code",
   "execution_count": 8,
   "id": "8f29511a-dece-4193-b150-286720278a9e",
   "metadata": {},
   "outputs": [
    {
     "name": "stdout",
     "output_type": "stream",
     "text": [
      "\n",
      "Interpretation:\n",
      "The mean (21) is significantly affected by the outlier (100), making it much higher than most values in the dataset.\n",
      "The median (5.5) provides a better central value as it is unaffected by extreme values.\n",
      "The mode (5) represents the most frequently occurring value, reflecting the most common data point.\n"
     ]
    }
   ],
   "source": [
    "print(\"\\nInterpretation:\")\n",
    "print(\"The mean (21) is significantly affected by the outlier (100), making it much higher than most values in the dataset.\")\n",
    "print(\"The median (5.5) provides a better central value as it is unaffected by extreme values.\")\n",
    "print(\"The mode (5) represents the most frequently occurring value, reflecting the most common data point.\")\n"
   ]
  },
  {
   "cell_type": "code",
   "execution_count": null,
   "id": "98e9ee06-0128-48a9-9140-0815986f3c38",
   "metadata": {},
   "outputs": [],
   "source": []
  }
 ],
 "metadata": {
  "kernelspec": {
   "display_name": "Python 3 (ipykernel)",
   "language": "python",
   "name": "python3"
  },
  "language_info": {
   "codemirror_mode": {
    "name": "ipython",
    "version": 3
   },
   "file_extension": ".py",
   "mimetype": "text/x-python",
   "name": "python",
   "nbconvert_exporter": "python",
   "pygments_lexer": "ipython3",
   "version": "3.12.7"
  }
 },
 "nbformat": 4,
 "nbformat_minor": 5
}
