{
 "cells": [
  {
   "cell_type": "code",
   "execution_count": 1,
   "id": "b2e14c23-52a7-47b4-836b-62abab1d0fe5",
   "metadata": {},
   "outputs": [],
   "source": [
    "import numpy as np"
   ]
  },
  {
   "cell_type": "code",
   "execution_count": 2,
   "id": "abe72bee-5b9f-4abc-8f16-62dc370c14cb",
   "metadata": {},
   "outputs": [
    {
     "name": "stdout",
     "output_type": "stream",
     "text": [
      "[1 2 3 4 5 6 7 8 9]\n"
     ]
    }
   ],
   "source": [
    "arr=np.arange(1,10)\n",
    "print(arr)"
   ]
  },
  {
   "cell_type": "code",
   "execution_count": 5,
   "id": "8761f4c8-47d6-44e9-8d34-1122a9d448a0",
   "metadata": {},
   "outputs": [
    {
     "name": "stdout",
     "output_type": "stream",
     "text": [
      "max value: 9\n",
      "min_value: 1\n",
      "mean_value: 5.0\n"
     ]
    }
   ],
   "source": [
    "max_value=np.max(arr)\n",
    "min_value=np.min(arr)\n",
    "mean_value=np.mean(arr)\n",
    "\n",
    "print(\"max value:\", max_value)\n",
    "print(\"min_value:\", min_value)\n",
    "print(\"mean_value:\", mean_value)"
   ]
  },
  {
   "cell_type": "code",
   "execution_count": null,
   "id": "d99e8933-2ab3-4d86-b55a-32c05ce44d67",
   "metadata": {},
   "outputs": [],
   "source": []
  }
 ],
 "metadata": {
  "kernelspec": {
   "display_name": "Python 3 (ipykernel)",
   "language": "python",
   "name": "python3"
  },
  "language_info": {
   "codemirror_mode": {
    "name": "ipython",
    "version": 3
   },
   "file_extension": ".py",
   "mimetype": "text/x-python",
   "name": "python",
   "nbconvert_exporter": "python",
   "pygments_lexer": "ipython3",
   "version": "3.12.7"
  }
 },
 "nbformat": 4,
 "nbformat_minor": 5
}
