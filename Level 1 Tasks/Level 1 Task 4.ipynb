{
 "cells": [
  {
   "cell_type": "code",
   "execution_count": 8,
   "id": "ad400d53-27ae-4d11-a2e9-9875e7111bc7",
   "metadata": {},
   "outputs": [
    {
     "name": "stdin",
     "output_type": "stream",
     "text": [
      "Enter the Key: Name\n",
      "Entre the value: Dhoni\n",
      "Enter the Key: Age\n",
      "Entre the value: 43\n",
      "Enter the Key: Role\n",
      "Entre the value: Wicket-keeper captian\n"
     ]
    },
    {
     "name": "stdout",
     "output_type": "stream",
     "text": [
      "Final Dictionary: {'Name': 'Dhoni', 'Age': '43', 'Role': 'Wicket-keeper captian'}\n"
     ]
    }
   ],
   "source": [
    "my_dict={}\n",
    "for i in range(3):\n",
    "    key =input(\"Enter the Key:\")\n",
    "    value=input(\"Entre the value:\")\n",
    "    my_dict[key]=value\n",
    "print(\"Final Dictionary:\",my_dict)\n"
   ]
  },
  {
   "cell_type": "code",
   "execution_count": 11,
   "id": "479f57ca-2951-47ca-aea3-0f7f99b67831",
   "metadata": {},
   "outputs": [
    {
     "name": "stdin",
     "output_type": "stream",
     "text": [
      "Enter The Key: Square\n",
      "Enter The value: 4\n",
      "Enter The Key: Rectangle\n",
      "Enter The value: 4\n",
      "Enter The Key: Triangle\n",
      "Enter The value: 3\n",
      "Enter The Key: Sphere\n",
      "Enter The value: 5\n",
      "Enter The Key: Circle\n",
      "Enter The value: 0\n"
     ]
    },
    {
     "name": "stdout",
     "output_type": "stream",
     "text": [
      "finalised dictionary: {'Square': '4', 'Rectangle': '4', 'Triangle': '3', 'Sphere': '5', 'Circle': '0'}\n"
     ]
    }
   ],
   "source": [
    "my_dict={}\n",
    "for i in range(5):\n",
    "    key=input(\"Enter The Key:\")\n",
    "    value=input(\"Enter The value:\")\n",
    "    my_dict[key]=value\n",
    "print(\"finalised dictionary:\",my_dict)"
   ]
  },
  {
   "cell_type": "code",
   "execution_count": null,
   "id": "0f9d9792-0085-468c-ad17-5f890d5a337d",
   "metadata": {},
   "outputs": [],
   "source": []
  }
 ],
 "metadata": {
  "kernelspec": {
   "display_name": "Python 3 (ipykernel)",
   "language": "python",
   "name": "python3"
  },
  "language_info": {
   "codemirror_mode": {
    "name": "ipython",
    "version": 3
   },
   "file_extension": ".py",
   "mimetype": "text/x-python",
   "name": "python",
   "nbconvert_exporter": "python",
   "pygments_lexer": "ipython3",
   "version": "3.12.7"
  }
 },
 "nbformat": 4,
 "nbformat_minor": 5
}
