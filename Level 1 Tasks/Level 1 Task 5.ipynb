{
 "cells": [
  {
   "cell_type": "code",
   "execution_count": 1,
   "id": "bf6acdc9-6629-4d5e-bd7b-06d7e034b6b3",
   "metadata": {},
   "outputs": [],
   "source": [
    "import numpy as np"
   ]
  },
  {
   "cell_type": "code",
   "execution_count": 19,
   "id": "8e073bc9-5229-40ae-aa13-d1e73f6c8e8a",
   "metadata": {},
   "outputs": [
    {
     "name": "stdout",
     "output_type": "stream",
     "text": [
      "Sum of the Matrix:\n",
      " [[ 6  8]\n",
      " [10 12]]\n",
      "Element wise product:\n",
      " [[ 5 12]\n",
      " [21 32]]\n",
      "Dot product:\n",
      " [[19 22]\n",
      " [43 50]]\n",
      "Matrix Multiplication:\n",
      " [[19 22]\n",
      " [43 50]]\n"
     ]
    }
   ],
   "source": [
    "A=np.array([[1,2],[3,4]])\n",
    "B=np.array([[5,6],[7,8]])\n",
    "\n",
    "sum_matrix=A+B\n",
    "elementwise_product=A*B\n",
    "Dot_product=np.dot(A,B)\n",
    "Matrix_Multiplication=A@B\n",
    "\n",
    "print(\"Sum of the Matrix:\\n\",sum_matrix)\n",
    "print(\"Element wise product:\\n\",elementwise_product)\n",
    "print(\"Dot product:\\n\",Dot_product)\n",
    "print(\"Matrix Multiplication:\\n\",Matrix_Multiplication)"
   ]
  },
  {
   "cell_type": "code",
   "execution_count": null,
   "id": "809f7eca-c2ce-4f56-a271-b82b68c0f854",
   "metadata": {},
   "outputs": [],
   "source": []
  }
 ],
 "metadata": {
  "kernelspec": {
   "display_name": "Python 3 (ipykernel)",
   "language": "python",
   "name": "python3"
  },
  "language_info": {
   "codemirror_mode": {
    "name": "ipython",
    "version": 3
   },
   "file_extension": ".py",
   "mimetype": "text/x-python",
   "name": "python",
   "nbconvert_exporter": "python",
   "pygments_lexer": "ipython3",
   "version": "3.12.7"
  }
 },
 "nbformat": 4,
 "nbformat_minor": 5
}
