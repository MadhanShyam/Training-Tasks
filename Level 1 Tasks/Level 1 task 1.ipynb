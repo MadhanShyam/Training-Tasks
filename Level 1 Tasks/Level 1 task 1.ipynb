{
 "cells": [
  {
   "cell_type": "code",
   "execution_count": 1,
   "id": "c5a1c773-b500-4b16-b09a-7d95aedc785f",
   "metadata": {},
   "outputs": [
    {
     "name": "stdout",
     "output_type": "stream",
     "text": [
      "Modified List: [10, 20, 40, 90, 100]\n"
     ]
    }
   ],
   "source": [
    "My_list=[10,20,40,70,90]\n",
    "My_list.append(100)\n",
    "My_list.remove(70)\n",
    "print(\"Modified List:\",My_list)"
   ]
  },
  {
   "cell_type": "code",
   "execution_count": 3,
   "id": "e07aa3c5-cee1-4647-97aa-e7853e1f1547",
   "metadata": {},
   "outputs": [
    {
     "name": "stdout",
     "output_type": "stream",
     "text": [
      "Modified Set: [10, 20, 70, 90, 100]\n"
     ]
    }
   ],
   "source": [
    "My_set={10,20,40,70,90}\n",
    "My_set.add(100) #add is used to add an elemnet in the set where it is mutable\n",
    "My_set.discard(40)  #this set may sometimed provide differnt order so we can use sorted to be aligned\n",
    "print(\"Modified Set:\",sorted(My_set))"
   ]
  },
  {
   "cell_type": "code",
   "execution_count": 5,
   "id": "82d2f630-afb2-4126-a46c-53158845b0ae",
   "metadata": {},
   "outputs": [
    {
     "name": "stdout",
     "output_type": "stream",
     "text": [
      "Modified Tuple: (10, 20, 40, 70, 90)\n"
     ]
    }
   ],
   "source": [
    "My_tuple=(10,20,40,70,90) #The Tuple is an immutable .so we can not add or remove anything inside the elemnets .Or we need to remove the entire set of values\n",
    "print(\"Modified Tuple:\",My_tuple)"
   ]
  },
  {
   "cell_type": "code",
   "execution_count": 8,
   "id": "079835da-c438-483b-be74-61df63b319d0",
   "metadata": {},
   "outputs": [
    {
     "name": "stdout",
     "output_type": "stream",
     "text": [
      "Modified dict: {'Apple': 200, 'Orange': 160, 'Mango': 145, 'banana': 70, 'Grape': 140}\n"
     ]
    }
   ],
   "source": [
    "My_dict={\"Apple\": 200,\"Orange\": 160,\"Mango\": 130,\"banana\":70}\n",
    "My_dict[\"Mango\"]=145\n",
    "My_dict[\"Grape\"]=140\n",
    "print(\"Modified dict:\" ,My_dict)"
   ]
  }
 ],
 "metadata": {
  "kernelspec": {
   "display_name": "Python 3 (ipykernel)",
   "language": "python",
   "name": "python3"
  },
  "language_info": {
   "codemirror_mode": {
    "name": "ipython",
    "version": 3
   },
   "file_extension": ".py",
   "mimetype": "text/x-python",
   "name": "python",
   "nbconvert_exporter": "python",
   "pygments_lexer": "ipython3",
   "version": "3.12.7"
  }
 },
 "nbformat": 4,
 "nbformat_minor": 5
}
