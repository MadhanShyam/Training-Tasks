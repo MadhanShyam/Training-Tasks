{
 "cells": [
  {
   "cell_type": "code",
   "execution_count": 1,
   "id": "3a48127c-7cdb-45ec-81af-5cf07387d673",
   "metadata": {},
   "outputs": [],
   "source": [
    "def year_input(year):\n",
    "    if year%4==0:\n",
    "        print(\"leap year\")\n",
    "    else:\n",
    "        print(\"not leap year\")\n",
    "            "
   ]
  },
  {
   "cell_type": "code",
   "execution_count": 2,
   "id": "d8c3ecf8-2315-4a69-98ab-5860167baba2",
   "metadata": {},
   "outputs": [
    {
     "name": "stdout",
     "output_type": "stream",
     "text": [
      "leap year\n"
     ]
    }
   ],
   "source": [
    "year_input(1996)"
   ]
  },
  {
   "cell_type": "code",
   "execution_count": null,
   "id": "3ac6a142-872e-4ba0-9055-6dea1f77df17",
   "metadata": {},
   "outputs": [],
   "source": [
    "\n"
   ]
  },
  {
   "cell_type": "code",
   "execution_count": 3,
   "id": "d65ce5d5-c37b-47df-a961-4a366fc4e6e4",
   "metadata": {},
   "outputs": [],
   "source": [
    "even=lambda a:a%2==0"
   ]
  },
  {
   "cell_type": "code",
   "execution_count": 4,
   "id": "b73cae30-bb9b-409e-a1bf-8784432edc7f",
   "metadata": {},
   "outputs": [
    {
     "data": {
      "text/plain": [
       "True"
      ]
     },
     "execution_count": 4,
     "metadata": {},
     "output_type": "execute_result"
    }
   ],
   "source": [
    "even(22)"
   ]
  },
  {
   "cell_type": "code",
   "execution_count": 5,
   "id": "f8a8b130-f75e-4636-aada-b4c58d8bf85d",
   "metadata": {},
   "outputs": [],
   "source": [
    "even=lambda a,b:a*b"
   ]
  },
  {
   "cell_type": "code",
   "execution_count": 6,
   "id": "28c49140-bfb4-491e-857c-450b4daaf533",
   "metadata": {},
   "outputs": [
    {
     "data": {
      "text/plain": [
       "10"
      ]
     },
     "execution_count": 6,
     "metadata": {},
     "output_type": "execute_result"
    }
   ],
   "source": [
    "even(5,2)"
   ]
  },
  {
   "cell_type": "code",
   "execution_count": 9,
   "id": "906598f0-1ed1-431e-8c53-6077eddd38a3",
   "metadata": {},
   "outputs": [
    {
     "name": "stdout",
     "output_type": "stream",
     "text": [
      "[24, 48, 72, 96, 120, 144]\n"
     ]
    }
   ],
   "source": [
    "def multiply_and_filter(arr, num):\n",
    "    multiplied = [x * num for x in arr] \n",
    "    even_numbers = [x for x in multiplied if x % 2 == 0]\n",
    "    return even_numbers\n",
    "\n",
    "arr = [1, 2, 3, 4, 5, 6]\n",
    "num = 24\n",
    "result = multiply_and_filter(arr, num)\n",
    "print(result)\n"
   ]
  },
  {
   "cell_type": "code",
   "execution_count": null,
   "id": "3b28c52d-71bb-4305-a494-cb91ccfe8229",
   "metadata": {},
   "outputs": [],
   "source": []
  }
 ],
 "metadata": {
  "kernelspec": {
   "display_name": "Python 3 (ipykernel)",
   "language": "python",
   "name": "python3"
  },
  "language_info": {
   "codemirror_mode": {
    "name": "ipython",
    "version": 3
   },
   "file_extension": ".py",
   "mimetype": "text/x-python",
   "name": "python",
   "nbconvert_exporter": "python",
   "pygments_lexer": "ipython3",
   "version": "3.12.7"
  }
 },
 "nbformat": 4,
 "nbformat_minor": 5
}
